{
 "cells": [
  {
   "cell_type": "markdown",
   "metadata": {},
   "source": [
    "# Useful Python Commands"
   ]
  },
  {
   "cell_type": "markdown",
   "metadata": {},
   "source": [
    "## General Info"
   ]
  },
  {
   "cell_type": "markdown",
   "metadata": {},
   "source": [
    "### Imports"
   ]
  },
  {
   "cell_type": "code",
   "execution_count": 61,
   "metadata": {},
   "outputs": [],
   "source": [
    "import numpy as np\n",
    "from numpy import linalg as la\n",
    "import scipy as sp"
   ]
  },
  {
   "cell_type": "markdown",
   "metadata": {},
   "source": [
    "This gives us access to the numpy library. We can use it with the prefix np. We then import the linear algebra library from numpy. This is not necessary to make use of it, but it makes it easier to access it. We finally will bring in the scipy library which gives us expm() and log(m)."
   ]
  },
  {
   "cell_type": "markdown",
   "metadata": {},
   "source": [
    "### Numpy and Linalg"
   ]
  },
  {
   "cell_type": "markdown",
   "metadata": {},
   "source": [
    "Python doesn't care much about column and row vectors the way matlab does.  It will throw errors if you don't do things the way it wants, but you can do things that don't make mathematical sense."
   ]
  },
  {
   "cell_type": "markdown",
   "metadata": {},
   "source": [
    "### Lists and Arrays"
   ]
  },
  {
   "cell_type": "code",
   "execution_count": 62,
   "metadata": {},
   "outputs": [
    {
     "name": "stdout",
     "output_type": "stream",
     "text": [
      "[1, 2, 3, 4, 5, 6]\n",
      "[5 7 9]\n"
     ]
    }
   ],
   "source": [
    "A = [1, 2, 3]  # These are lists\n",
    "B = [4, 5, 6]\n",
    "\n",
    "print(A+B)\n",
    "\n",
    "C = np.array([1, 2, 3])  # These are lists\n",
    "D = np.asarray(B)\n",
    "\n",
    "print(C+D)"
   ]
  },
  {
   "cell_type": "markdown",
   "metadata": {},
   "source": [
    "### Important to note how python deals with variable asignments"
   ]
  },
  {
   "cell_type": "code",
   "execution_count": 63,
   "metadata": {},
   "outputs": [
    {
     "name": "stdout",
     "output_type": "stream",
     "text": [
      "[1 2 3]\n",
      "[1 2 3]\n"
     ]
    }
   ],
   "source": [
    "A = np.array([1, 2, 3])\n",
    "B = A\n",
    "\n",
    "print(A)\n",
    "print(B)"
   ]
  },
  {
   "cell_type": "code",
   "execution_count": 64,
   "metadata": {},
   "outputs": [
    {
     "name": "stdout",
     "output_type": "stream",
     "text": [
      "[1 5 3]\n",
      "[1 5 3]\n"
     ]
    }
   ],
   "source": [
    "A[1] = 5\n",
    "\n",
    "print(A)\n",
    "print(B)"
   ]
  },
  {
   "cell_type": "markdown",
   "metadata": {},
   "source": [
    "In Python, when you asign one variable to another variable, it does not make copy of that variable, it just points to or links to the same object.  Thus when you change A, you also change B.  To make a copy, we need to make a copy or deep copy."
   ]
  },
  {
   "cell_type": "markdown",
   "metadata": {},
   "source": [
    "### Copy and Deepcopy"
   ]
  },
  {
   "cell_type": "code",
   "execution_count": 65,
   "metadata": {},
   "outputs": [
    {
     "name": "stdout",
     "output_type": "stream",
     "text": [
      "Original List\n",
      "[4, 5, [0, 2], 7, 8, 9]\n",
      "Shallow copy\n",
      "[4, 5, [0, 2], 7, 8, 9]\n",
      "Deep copy\n",
      "[4, 5, [0, 2], 7, 8, 9]\n"
     ]
    }
   ],
   "source": [
    "# importing copy module \n",
    "import copy \n",
    "  \n",
    "# initializing list 1  \n",
    "list1 = [4, 5, [0,2], 7, 8, 9] \n",
    "  \n",
    "  \n",
    "# using copy for shallow copy   \n",
    "list2 = copy.copy(list1)  \n",
    "  \n",
    "# using deepcopy for deepcopy   \n",
    "list3 = copy.deepcopy(list1) \n",
    "\n",
    "print(\"Original List\")\n",
    "print(list1)\n",
    "print(\"Shallow copy\")\n",
    "print(list2)\n",
    "print(\"Deep copy\")\n",
    "print(list3)\n",
    "\n",
    "\n"
   ]
  },
  {
   "cell_type": "markdown",
   "metadata": {},
   "source": [
    "They appear all the same, but we should see what happens when we change elements at different levels."
   ]
  },
  {
   "cell_type": "code",
   "execution_count": 66,
   "metadata": {},
   "outputs": [
    {
     "name": "stdout",
     "output_type": "stream",
     "text": [
      "Original List\n",
      "[4, 5, [0, 8], 7, 8, 9]\n",
      "Shallow copy after changing elements in both the main list and the sub-list\n",
      "[4, 5, [0, 8], 7, 8, 9]\n",
      "Deep copy after changing elements in both the main list and the sub-list\n",
      "[4, 5, [0, 2], 7, 8, 9]\n"
     ]
    }
   ],
   "source": [
    "list1[0] = 4\n",
    "list1[2][1] = 8\n",
    "print(\"Original List\")\n",
    "print(list1)\n",
    "print(\"Shallow copy after changing elements in both the main list and the sub-list\")\n",
    "print(list2)\n",
    "print(\"Deep copy after changing elements in both the main list and the sub-list\")\n",
    "print(list3)"
   ]
  },
  {
   "cell_type": "markdown",
   "metadata": {},
   "source": [
    "We can see that with the shallow copy, ths sub list is still linked to the first list.  It only copies the first level which means it only links to the second level objects.  The deep copy fully copies all levels of the object.  This takes more time, so should only be used when needed.  A shallow copy is fine when you only have one level to start with."
   ]
  },
  {
   "cell_type": "markdown",
   "metadata": {},
   "source": [
    "## Lab 4"
   ]
  },
  {
   "cell_type": "markdown",
   "metadata": {},
   "source": [
    "### Cross products"
   ]
  },
  {
   "cell_type": "code",
   "execution_count": 67,
   "metadata": {},
   "outputs": [
    {
     "name": "stdout",
     "output_type": "stream",
     "text": [
      "[-3  6 -3]\n"
     ]
    }
   ],
   "source": [
    "a = [1, 2, 3]\n",
    "b = [4, 5, 6]\n",
    "\n",
    "print(np.cross(a,b))"
   ]
  },
  {
   "cell_type": "code",
   "execution_count": 68,
   "metadata": {},
   "outputs": [
    {
     "name": "stdout",
     "output_type": "stream",
     "text": [
      "[[-3]\n",
      " [ 6]\n",
      " [-3]]\n"
     ]
    }
   ],
   "source": [
    "a = np.array([[1], [2], [3]])\n",
    "b = np.array([[4], [5], [6]])\n",
    "\n",
    "print(np.cross(a,b, axis=0))"
   ]
  },
  {
   "cell_type": "code",
   "execution_count": 69,
   "metadata": {},
   "outputs": [
    {
     "name": "stdout",
     "output_type": "stream",
     "text": [
      "[-3  6 -3]\n"
     ]
    }
   ],
   "source": [
    "a = np.array([1, 2, 3])\n",
    "b = np.array([4, 5, 6])\n",
    "\n",
    "print(np.cross(a,b))"
   ]
  },
  {
   "cell_type": "code",
   "execution_count": 70,
   "metadata": {},
   "outputs": [
    {
     "name": "stdout",
     "output_type": "stream",
     "text": [
      "[[-3  6 -3]]\n"
     ]
    }
   ],
   "source": [
    "a = np.array([[1], [2], [3]]).T\n",
    "b = np.array([[4], [5], [6]]).T\n",
    "\n",
    "print(np.cross(a,b))"
   ]
  },
  {
   "cell_type": "markdown",
   "metadata": {},
   "source": [
    "### Slicing and Indexing Arrays"
   ]
  },
  {
   "cell_type": "code",
   "execution_count": 71,
   "metadata": {},
   "outputs": [],
   "source": [
    "A = np.array([[1, 2, 3],\\\n",
    "     [4, 5, 6],\\\n",
    "     [7, 8, 9]])\n",
    "v = np.array([-1 -2, -3, -4, -5, -6, -7, -8, -9])\n",
    "u = np.array([[10],[11],[12],[13],[14],[15]])\n"
   ]
  },
  {
   "cell_type": "code",
   "execution_count": 72,
   "metadata": {},
   "outputs": [
    {
     "name": "stdout",
     "output_type": "stream",
     "text": [
      "[[5 6]\n",
      " [8 9]]\n",
      "[[1 2 3]]\n",
      "5\n"
     ]
    }
   ],
   "source": [
    "print(A[1:3,1:3])\n",
    "print(A[0:3][0:1]) # How does this work???\n",
    "print(A[1][1])"
   ]
  },
  {
   "cell_type": "markdown",
   "metadata": {},
   "source": [
    "### Concatinating"
   ]
  },
  {
   "cell_type": "code",
   "execution_count": 73,
   "metadata": {},
   "outputs": [
    {
     "name": "stdout",
     "output_type": "stream",
     "text": [
      "(3, 1)\n",
      "(1, 4)\n",
      "(3, 4)\n",
      "[[ 0  0  1 -2]\n",
      " [ 0  1  0  5]\n",
      " [ 1  0  0  1]\n",
      " [ 0  0  0  1]]\n"
     ]
    }
   ],
   "source": [
    "R = np.array([[0, 0, 1],\\\n",
    "              [0, 1, 0],\\\n",
    "              [1, 0, 0]])\n",
    "p = np.array([[-2],[5],[1]])\n",
    "bottom = np.array([[0, 0 ,0, 1]])\n",
    "#print(R)\n",
    "print(p.shape)\n",
    "print(bottom.shape)\n",
    "\n",
    "A = np.concatenate((R,p), axis = 1)\n",
    "print(A.shape)\n",
    "print(np.concatenate((A,bottom)))\n"
   ]
  },
  {
   "cell_type": "code",
   "execution_count": 74,
   "metadata": {},
   "outputs": [
    {
     "name": "stdout",
     "output_type": "stream",
     "text": [
      "[[1 2 3 4 5 6]]\n",
      "[[1 2 3]\n",
      " [4 5 6]]\n"
     ]
    }
   ],
   "source": [
    "A = np.array([[1, 2, 3]])\n",
    "B = np.array([[4, 5, 6]])\n",
    "print(np.concatenate((A,B), axis = 1))\n",
    "print(np.concatenate((A,B), axis = 0))"
   ]
  },
  {
   "cell_type": "markdown",
   "metadata": {},
   "source": [
    "### Concatenating Strings"
   ]
  },
  {
   "cell_type": "code",
   "execution_count": 75,
   "metadata": {},
   "outputs": [
    {
     "name": "stdout",
     "output_type": "stream",
     "text": [
      "The UR3 has 6 DOFs.\n"
     ]
    }
   ],
   "source": [
    "String = 'The UR3 has ' + str(6) + ' DOFs.'\n",
    "print(String)"
   ]
  }
 ],
 "metadata": {
  "kernelspec": {
   "display_name": "Python 3",
   "language": "python",
   "name": "python3"
  },
  "language_info": {
   "codemirror_mode": {
    "name": "ipython",
    "version": 3
   },
   "file_extension": ".py",
   "mimetype": "text/x-python",
   "name": "python",
   "nbconvert_exporter": "python",
   "pygments_lexer": "ipython3",
   "version": "3.7.3"
  }
 },
 "nbformat": 4,
 "nbformat_minor": 2
}
